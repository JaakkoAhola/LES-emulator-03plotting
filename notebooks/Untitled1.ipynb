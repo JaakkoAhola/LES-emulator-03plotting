{
 "cells": [
  {
   "cell_type": "code",
   "execution_count": 2,
   "metadata": {},
   "outputs": [],
   "source": [
    "import pandas"
   ]
  },
  {
   "cell_type": "code",
   "execution_count": 1,
   "metadata": {},
   "outputs": [],
   "source": [
    "r2 = {'linearFitLVL3Night': 0.3582078533529635, 'correctedLinearFitLVL3Night': 0.7782018147409533, 'emulatorLVL3Night': 0.7422613646463478, 'linearFitLVL3Day': 0.670799580719632, 'correctedLinearFitLVL3Day': 0.8456380714759834, 'emulatorLVL3Day': 0.8267634975606296, 'linearFitLVL4Night': 0.2581694905216796, 'correctedLinearFitLVL4Night': 0.4342511883640014, 'emulatorLVL4Night': 0.3980800046698174, 'linearFitLVL4Day': 0.5427434819296493, 'correctedLinearFitLVL4Day': 0.6039061597272621, 'emulatorLVL4Day': 0.5075758647033094}\n",
    "rmse = {'linearFitLVL3Night': 0.0941533003738662, 'correctedLinearFitLVL3Night': 0.055349964032586, 'emulatorLVL3Night': 0.0596661631271338, 'linearFitLVL3Day': 0.0816255784175383, 'correctedLinearFitLVL3Day': 0.0558941273206674, 'emulatorLVL3Day': 0.0592128255453725, 'linearFitLVL4Night': 0.0942200799301131, 'correctedLinearFitLVL4Night': 0.0822816416855715, 'emulatorLVL4Night': 0.0848712323388781, 'linearFitLVL4Day': 0.0738011960665896, 'correctedLinearFitLVL4Day': 0.068688256384427, 'emulatorLVL4Day': 0.0765866570522906}\n"
   ]
  },
  {
   "cell_type": "code",
   "execution_count": 11,
   "metadata": {},
   "outputs": [],
   "source": [
    "r2d2 = pandas.DataFrame.from_dict(r2, orient=\"index\", columns = [\"r2\"])\n",
    "rmsed2 = pandas.DataFrame.from_dict(rmse, orient=\"index\", columns = [\"rmse\"])\n"
   ]
  },
  {
   "cell_type": "code",
   "execution_count": 17,
   "metadata": {},
   "outputs": [
    {
     "name": "stdout",
     "output_type": "stream",
     "text": [
      "                                   r2\n",
      "correctedLinearFitLVL3Day    0.845638\n",
      "emulatorLVL3Day              0.826763\n",
      "correctedLinearFitLVL3Night  0.778202\n",
      "emulatorLVL3Night            0.742261\n",
      "linearFitLVL3Day             0.670800\n",
      "correctedLinearFitLVL4Day    0.603906\n",
      "linearFitLVL4Day             0.542743\n",
      "emulatorLVL4Day              0.507576\n",
      "correctedLinearFitLVL4Night  0.434251\n",
      "emulatorLVL4Night            0.398080\n",
      "linearFitLVL3Night           0.358208\n",
      "linearFitLVL4Night           0.258169\n",
      "                                 rmse\n",
      "correctedLinearFitLVL3Night  0.055350\n",
      "correctedLinearFitLVL3Day    0.055894\n",
      "emulatorLVL3Day              0.059213\n",
      "emulatorLVL3Night            0.059666\n",
      "correctedLinearFitLVL4Day    0.068688\n",
      "linearFitLVL4Day             0.073801\n",
      "emulatorLVL4Day              0.076587\n",
      "linearFitLVL3Day             0.081626\n",
      "correctedLinearFitLVL4Night  0.082282\n",
      "emulatorLVL4Night            0.084871\n",
      "linearFitLVL3Night           0.094153\n",
      "linearFitLVL4Night           0.094220\n"
     ]
    }
   ],
   "source": [
    "print(r2d2.sort_values(by=\"r2\", ascending = False))\n",
    "print(rmsed2.sort_values(by=\"rmse\", ascending = True))"
   ]
  }
 ],
 "metadata": {
  "kernelspec": {
   "display_name": "Python 3",
   "language": "python",
   "name": "python3"
  },
  "language_info": {
   "codemirror_mode": {
    "name": "ipython",
    "version": 3
   },
   "file_extension": ".py",
   "mimetype": "text/x-python",
   "name": "python",
   "nbconvert_exporter": "python",
   "pygments_lexer": "ipython3",
   "version": "3.7.6"
  }
 },
 "nbformat": 4,
 "nbformat_minor": 4
}
